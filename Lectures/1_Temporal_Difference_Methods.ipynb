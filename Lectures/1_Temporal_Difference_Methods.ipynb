{
 "cells": [
  {
   "cell_type": "markdown",
   "metadata": {},
   "source": [
    "# Temporal-Difference Learning\n",
    "\n",
    "In this notebook, we will learn Temporal-Difference (TD) Methods using CliffWalking environment from OpenAI Gym. You can find more about this environment [here](https://github.com/openai/gym/blob/master/gym/envs/toy_text/cliffwalking.py).\n",
    "\n",
    "## Table of Contents\n",
    "\n",
    "- [CliffWalking Env](#cw_env)\n",
    "- [Sarsa: On-policy TD Control](#sarsa)\n",
    "- [Q-learning: Off-policy TD Control](#q_learning)\n",
    "- [References](#references)\n",
    "- [Further Resources](#resources)"
   ]
  },
  {
   "cell_type": "markdown",
   "metadata": {},
   "source": [
    "<a id=cw_env></a>\n",
    "## CliffWalking Env\n",
    "\n",
    "Lets explore gym CliffWalking environment. We begin by importing the necessary modules and packages."
   ]
  },
  {
   "cell_type": "code",
   "execution_count": 2,
   "metadata": {},
   "outputs": [],
   "source": [
    "import sys\n",
    "import gym\n",
    "import numpy as np\n",
    "from collections import defaultdict, deque\n",
    "import seaborn as sns\n",
    "import matplotlib.pyplot as plt\n",
    "%matplotlib inline"
   ]
  },
  {
   "cell_type": "markdown",
   "metadata": {},
   "source": [
    "We can create an instance of the CliffWalking env by calling `gym.make('CliffWalking-v0')`."
   ]
  },
  {
   "cell_type": "code",
   "execution_count": 3,
   "metadata": {},
   "outputs": [],
   "source": [
    "env = gym.make('CliffWalking-v0')"
   ]
  },
  {
   "cell_type": "markdown",
   "metadata": {},
   "source": [
    "Now, lets find the details information of observation and action spaces."
   ]
  },
  {
   "cell_type": "code",
   "execution_count": 3,
   "metadata": {
    "scrolled": true
   },
   "outputs": [
    {
     "data": {
      "text/plain": [
       "Discrete(48)"
      ]
     },
     "execution_count": 3,
     "metadata": {},
     "output_type": "execute_result"
    }
   ],
   "source": [
    "env.observation_space"
   ]
  },
  {
   "cell_type": "code",
   "execution_count": 4,
   "metadata": {
    "scrolled": false
   },
   "outputs": [
    {
     "data": {
      "text/plain": [
       "Discrete(4)"
      ]
     },
     "execution_count": 4,
     "metadata": {},
     "output_type": "execute_result"
    }
   ],
   "source": [
    "env.action_space"
   ]
  },
  {
   "cell_type": "markdown",
   "metadata": {},
   "source": [
    "CliffWalking environment is adapted from example (6.6) of Sutton and Barto text book.\n",
    "\n",
    "Observation space (State) is 4x12 matrix, with (using NumPy matrix indexing):\n",
    "\n",
    "```\n",
    "[[ 0,  1,  2,  3,  4,  5,  6,  7,  8,  9, 10, 11],\n",
    " [12, 13, 14, 15, 16, 17, 18, 19, 20, 21, 22, 23],\n",
    " [24, 25, 26, 27, 28, 29, 30, 31, 32, 33, 34, 35],\n",
    " [36, 37, 38, 39, 40, 41, 42, 43, 44, 45, 46, 47]]\n",
    "```\n",
    "\n",
    "- [3, 0] as the start at bottom-left (state `36`)\n",
    "- [3, 11] as the goal at bottom-right (state `47`)\n",
    "- [3, 1..10] as the cliff at bottom-center (states `37 to 46`)\n",
    "\n",
    "Action space consists of four discrete values.\n",
    "\n",
    "- 0 = `UP`\n",
    "- 1 = `RIGHT`\n",
    "- 2 = `DOWN`\n",
    "- 3 = `LEFT`\n",
    "\n",
    "This CliffWalking environment information is documented in the [source code](https://github.com/openai/gym/blob/master/gym/envs/toy_text/cliffwalking.py#L30) as follows:\n",
    "\n",
    "> Each time step incurs -1 reward, and stepping into the cliff incurs -100 reward and a reset to the start. An episode terminates when the agent reaches the goal.\n",
    "\n",
    "Optimal policy of the environment is shown below.\n",
    "\n",
    "```\n",
    "[[ 0,  1,  2,  3,  4,  5,  6,  7,  8,  9, 10, 11],\n",
    " [12, 13, 14, 15, 16, 17, 18, 19, 20, 21, 22, 23],\n",
    " [ >,  >,  >,  >,  >,  >,  >,  >,  >,  >,  >,  >],\n",
    " [ S, 37, 38, 39, 40, 41, 42, 43, 44, 45, 46,  G]]\n",
    "```"
   ]
  },
  {
   "cell_type": "markdown",
   "metadata": {},
   "source": [
    "Run the code cell below to know more about the CliffWalking environment."
   ]
  },
  {
   "cell_type": "code",
   "execution_count": 5,
   "metadata": {
    "scrolled": false
   },
   "outputs": [
    {
     "name": "stdout",
     "output_type": "stream",
     "text": [
      "Current state 0:  36\n",
      "Current action 0:  2\n",
      "Reward 1:  -1\n",
      "o  o  o  o  o  o  o  o  o  o  o  o\n",
      "o  o  o  o  o  o  o  o  o  o  o  o\n",
      "o  o  o  o  o  o  o  o  o  o  o  o\n",
      "x  C  C  C  C  C  C  C  C  C  C  T\n",
      "\n",
      "Current state 1:  36\n",
      "Current action 1:  3\n",
      "Reward 2:  -1\n",
      "o  o  o  o  o  o  o  o  o  o  o  o\n",
      "o  o  o  o  o  o  o  o  o  o  o  o\n",
      "o  o  o  o  o  o  o  o  o  o  o  o\n",
      "x  C  C  C  C  C  C  C  C  C  C  T\n",
      "\n"
     ]
    }
   ],
   "source": [
    "# initialize the env\n",
    "state = env.reset()\n",
    "\n",
    "while True:\n",
    "    \n",
    "    for i in range(2):\n",
    "        action = env.action_space.sample()\n",
    "        print(f\"Current state {i}: \",state)\n",
    "        print(f\"Current action {i}: \",action)\n",
    "        state, reward, done, info = env.step(action)\n",
    "        print(f\"Reward {i+1}: \",reward)\n",
    "        env.render()\n",
    "    \n",
    "    break"
   ]
  },
  {
   "cell_type": "markdown",
   "metadata": {},
   "source": [
    "<a id=sarsa></a>\n",
    "## Sarsa: On-policy TD Control\n",
    "\n",
    "Lets start learning TD methods by implementing **Sarsa(0)**, which is an on-policy TD Control method. The pseudocode below is used to implement the algorithm.\n",
    "\n",
    "![](imgs/sarsa0.jpeg)\n",
    "\n",
    "We will call this function `sarsa`.\n",
    "\n",
    "The function accepts five input arguments:\n",
    "\n",
    "- `env`: an instance of OpenAI Gym's CliffWalking environment\n",
    "- `num_of_episodes`: number of episodes to play\n",
    "- `alpha`: step-size parameter in update equation\n",
    "- `plot_every`: store average scores over n episodes\n",
    "- `gamma`: discount rate (default = 1.0)\n",
    "\n",
    "The function returns two outputs:\n",
    "\n",
    "- `Q`: Q-Table of state, action pairs $Q(s,a)$\n",
    "- `avg_scores`: average scores for visualizing"
   ]
  },
  {
   "cell_type": "code",
   "execution_count": 4,
   "metadata": {},
   "outputs": [],
   "source": [
    "def epsilon_greedy_action(epsilon, number_of_actions, Q):\n",
    "    \n",
    "    policy = np.ones(number_of_actions) * epsilon / number_of_actions\n",
    "    max_action_index = np.argmax(Q)\n",
    "    policy[max_action_index] = 1 - epsilon + (epsilon / number_of_actions)\n",
    "    action = np.random.choice(np.arange(number_of_actions), p=policy)\n",
    "    \n",
    "    return action"
   ]
  },
  {
   "cell_type": "code",
   "execution_count": 29,
   "metadata": {},
   "outputs": [],
   "source": [
    "def sarsa(env, num_of_episodes, alpha, plot_every=100, gamma=1.0):\n",
    "    \n",
    "    # initialize empty dictionary Q\n",
    "    Q = defaultdict(lambda: np.zeros(env.action_space.n))\n",
    "    \n",
    "    # monitor performance\n",
    "    tmp_scores = deque(maxlen=plot_every)\n",
    "    avg_scores = deque(maxlen=num_of_episodes)\n",
    "    \n",
    "    for i in range(1, num_of_episodes+1):\n",
    "        \n",
    "        score = 0\n",
    "        \n",
    "        # initialize the episode\n",
    "        s = env.reset()\n",
    "        \n",
    "        # calculate epsilon value\n",
    "        epsilon = 1 / i\n",
    "        \n",
    "        # epsilon-greedy policy action selection\n",
    "        a = epsilon_greedy_action(epsilon, env.action_space.n, Q[s])\n",
    "        \n",
    "        # run until episode terminates\n",
    "        while True:\n",
    "            \n",
    "            ##############################\n",
    "            # take action A, observe R,S'\n",
    "            ##############################\n",
    "            next_s, reward, done, info = env.step(a)\n",
    "            score += reward\n",
    "            \n",
    "            ################################################\n",
    "            # choose A' from S' using epsilon-greedy policy\n",
    "            ################################################\n",
    "            next_a = epsilon_greedy_action(epsilon, env.action_space.n, Q[next_s])\n",
    "            \n",
    "            #######################################################\n",
    "            # Q(s,a) <- Q(s,a) + alpha*[R+gamma*Q(s',a') - Q(s,a)]\n",
    "            #######################################################\n",
    "            td_target = reward + gamma*Q[next_s][next_a]\n",
    "            Q[s][a] = Q[s][a] + alpha*(td_target - Q[s][a])\n",
    "            \n",
    "            ###################\n",
    "            # s <- s'; a <- a'\n",
    "            ###################\n",
    "            s = next_s\n",
    "            a = next_a\n",
    "            \n",
    "            if done:\n",
    "                tmp_scores.append(score)\n",
    "                break\n",
    "                \n",
    "        if (i % plot_every == 0):\n",
    "            avg_scores.append(np.mean(tmp_scores))\n",
    "            if (i % 1000 == 0):\n",
    "                print(f\"Episode {i}/{num_of_episodes}: Average Reward: {np.max(avg_scores)}\")\n",
    "\n",
    "    return Q, avg_scores"
   ]
  },
  {
   "cell_type": "markdown",
   "metadata": {},
   "source": [
    "Run the code cell below to train the agent. Feel free to tune the hyperparameters to get the optimal action-value function."
   ]
  },
  {
   "cell_type": "code",
   "execution_count": 59,
   "metadata": {},
   "outputs": [
    {
     "name": "stdout",
     "output_type": "stream",
     "text": [
      "Episode 1000/5000: Average Reward: -33.46\n",
      "Episode 2000/5000: Average Reward: -20.24\n",
      "Episode 3000/5000: Average Reward: -17.05\n",
      "Episode 4000/5000: Average Reward: -15.58\n",
      "Episode 5000/5000: Average Reward: -13.0\n"
     ]
    },
    {
     "data": {
      "image/png": "[encoded data removed]",
      "text/plain": [
       "<Figure size 432x288 with 1 Axes>"
      ]
     },
     "metadata": {
      "needs_background": "light"
     },
     "output_type": "display_data"
    }
   ],
   "source": [
    "env.seed(0)\n",
    "np.random.seed(0)\n",
    "\n",
    "# Hyperparameters\n",
    "num_of_episodes = 5000\n",
    "alpha = 0.012\n",
    "plot_every = 100\n",
    "gamma = 1.0\n",
    "\n",
    "Q, avg_scores = sarsa(env, num_of_episodes, alpha, \n",
    "                      plot_every, gamma)\n",
    "\n",
    "# plot performance\n",
    "plt.plot(np.linspace(0,num_of_episodes,len(avg_scores),endpoint=False), \n",
    "         np.asarray(avg_scores), 'r')\n",
    "\n",
    "plt.xlabel('Episode Number')\n",
    "plt.ylabel('Average Reward (Over Next %d Episodes)' % plot_every)\n",
    "plt.grid(True)\n",
    "plt.show()"
   ]
  },
  {
   "cell_type": "markdown",
   "metadata": {},
   "source": [
    "We can plot the corressponding action-value function by running code cell below."
   ]
  },
  {
   "cell_type": "code",
   "execution_count": 64,
   "metadata": {
    "scrolled": true
   },
   "outputs": [
    {
     "data": {
      "image/png": "[encoded data removed]",
      "text/plain": [
       "<Figure size 864x432 with 1 Axes>"
      ]
     },
     "metadata": {},
     "output_type": "display_data"
    }
   ],
   "source": [
    "# obtain the corresponding state-value function\n",
    "V = np.array([np.max(Q[key]) if key in Q else -1 for key in np.arange(48)]).reshape(4, 12)\n",
    "\n",
    "fig = plt.figure(figsize=(12,6))\n",
    "\n",
    "plt.title('State-Value Function')\n",
    "sns.heatmap(V, cmap=\"YlGnBu\", cbar=False, annot=True, xticklabels=[], yticklabels=[])\n",
    "plt.show()"
   ]
  },
  {
   "cell_type": "code",
   "execution_count": 10,
   "metadata": {},
   "outputs": [
    {
     "name": "stdout",
     "output_type": "stream",
     "text": [
      "\n",
      "Estimated Optimal Policy (UP = 0, RIGHT = 1, DOWN = 2, LEFT = 3, N/A = -1):\n",
      "[[ 0  3  0  1  2  1  1  2  1  2  1  2]\n",
      " [ 3  1  1  1  1  1  1  2  2  1  1  2]\n",
      " [ 1  1  1  1  1  1  1  1  1  1  1  2]\n",
      " [ 0 -1 -1 -1 -1 -1 -1 -1 -1 -1 -1  0]]\n"
     ]
    }
   ],
   "source": [
    "# print the estimated optimal policy\n",
    "policy = np.array([np.argmax(Q[key]) if key in Q else -1 for key in np.arange(48)]).reshape((4,12))\n",
    "print(\"\\nEstimated Optimal Policy (UP = 0, RIGHT = 1, DOWN = 2, LEFT = 3, N/A = -1):\")\n",
    "print(policy)"
   ]
  },
  {
   "cell_type": "markdown",
   "metadata": {},
   "source": [
    "<a id=q_learning></a>\n",
    "## Q-learning: Off-policy TD Control\n",
    "\n",
    "We will move to the Sarsamax algorithm, also known as Q-Learning, which is an off-policy TD Control algorithm. In this case, the learned action-value function $Q$ directly estimates $q_*$, the optimal action-value function, independent of the policy being followed.\n",
    "\n",
    "We will use the pseudocode below to implement our Q-Learning algorithm.\n",
    "\n",
    "![](imgs/qlearning.jpeg)\n",
    "\n",
    "We will call this function `qlearning`.\n",
    "\n",
    "The function accepts five input arguments:\n",
    "\n",
    "- `env`: an instance of OpenAI Gym's CliffWalking environment\n",
    "- `num_of_episodes`: number of episodes to play\n",
    "- `alpha`: step-size parameter in update equation\n",
    "- `plot_every`: store average scores over n episodes\n",
    "- `gamma`: discount rate (default = 1.0)\n",
    "\n",
    "The function returns two outputs:\n",
    "\n",
    "- `Q`: Q-Table of state, action pairs $Q(s,a)$\n",
    "- `avg_scores`: average scores for visualizing"
   ]
  },
  {
   "cell_type": "code",
   "execution_count": 5,
   "metadata": {},
   "outputs": [],
   "source": [
    "def qlearning(env, num_of_episodes, alpha, plot_every=100, gamma=1.0):\n",
    "    \n",
    "    # initialize empty dictionary Q\n",
    "    Q = defaultdict(lambda: np.zeros(env.action_space.n))\n",
    "    \n",
    "    # monitor performance\n",
    "    tmp_scores = deque(maxlen=plot_every)\n",
    "    avg_scores = deque(maxlen=num_of_episodes)\n",
    "    \n",
    "    for i in range(1, num_of_episodes+1):\n",
    "        \n",
    "        score = 0\n",
    "        \n",
    "        # initialize the episode\n",
    "        s = env.reset()\n",
    "        \n",
    "        # calculate epsilon value\n",
    "        epsilon = 1 / i\n",
    "        \n",
    "        # run until episode terminates\n",
    "        while True:\n",
    "            \n",
    "            ##############################################\n",
    "            # choose A from S using epsilon-greedy policy\n",
    "            ##############################################\n",
    "            a = epsilon_greedy_action(epsilon, env.action_space.n, Q[s])\n",
    "            \n",
    "            ##############################\n",
    "            # take action A, observe R,S'\n",
    "            ##############################\n",
    "            next_s, reward, done, info = env.step(a)\n",
    "            score += reward\n",
    "            \n",
    "            #######################################################\n",
    "            # Q(s,a) <- Q(s,a) + alpha*[R+gamma*max_aQ(s',a) - Q(s,a)]\n",
    "            #######################################################\n",
    "            td_target = reward + gamma*np.max(Q[next_s])\n",
    "            Q[s][a] = Q[s][a] + alpha*(td_target - Q[s][a])\n",
    "            \n",
    "            ##########\n",
    "            # s <- s'\n",
    "            ##########\n",
    "            s = next_s\n",
    "            \n",
    "            if done:\n",
    "                tmp_scores.append(score)\n",
    "                break\n",
    "                \n",
    "        if (i % plot_every == 0):\n",
    "            avg_scores.append(np.mean(tmp_scores))\n",
    "            if (i % 1000 == 0):\n",
    "                print(f\"Episode {i}/{num_of_episodes}: Average Reward: {np.max(avg_scores)}\")\n",
    "\n",
    "    return Q, avg_scores"
   ]
  },
  {
   "cell_type": "code",
   "execution_count": 6,
   "metadata": {},
   "outputs": [
    {
     "name": "stdout",
     "output_type": "stream",
     "text": [
      "Episode 1000/5000: Average Reward: -32.57\n",
      "Episode 2000/5000: Average Reward: -18.92\n",
      "Episode 3000/5000: Average Reward: -13.29\n",
      "Episode 4000/5000: Average Reward: -13.0\n",
      "Episode 5000/5000: Average Reward: -13.0\n"
     ]
    },
    {
     "data": {
      "image/png": "[encoded data removed]",
      "text/plain": [
       "<Figure size 432x288 with 1 Axes>"
      ]
     },
     "metadata": {
      "needs_background": "light"
     },
     "output_type": "display_data"
    }
   ],
   "source": [
    "env.seed(0)\n",
    "np.random.seed(0)\n",
    "\n",
    "# Hyperparameters\n",
    "num_of_episodes = 5000\n",
    "alpha = 0.012\n",
    "plot_every = 100\n",
    "gamma = 1.0\n",
    "\n",
    "Q, avg_scores = qlearning(env, num_of_episodes, alpha, \n",
    "                      plot_every, gamma)\n",
    "\n",
    "# plot performance\n",
    "plt.plot(np.linspace(0,num_of_episodes,len(avg_scores),endpoint=False), \n",
    "         np.asarray(avg_scores), 'r')\n",
    "\n",
    "plt.xlabel('Episode Number')\n",
    "plt.ylabel('Average Reward (Over Next %d Episodes)' % plot_every)\n",
    "plt.grid(True)\n",
    "plt.show()"
   ]
  },
  {
   "cell_type": "code",
   "execution_count": 7,
   "metadata": {},
   "outputs": [
    {
     "data": {
      "image/png": "[encoded data removed]",
      "text/plain": [
       "<Figure size 864x432 with 1 Axes>"
      ]
     },
     "metadata": {},
     "output_type": "display_data"
    }
   ],
   "source": [
    "# obtain the corresponding state-value function\n",
    "V = np.array([np.max(Q[key]) if key in Q else -1 for key in np.arange(48)]).reshape(4, 12)\n",
    "\n",
    "fig = plt.figure(figsize=(12,6))\n",
    "\n",
    "plt.title('State-Value Function')\n",
    "sns.heatmap(V, cmap=\"YlGnBu\", cbar=False, annot=True, xticklabels=[], yticklabels=[])\n",
    "plt.show()"
   ]
  },
  {
   "cell_type": "code",
   "execution_count": 9,
   "metadata": {},
   "outputs": [
    {
     "name": "stdout",
     "output_type": "stream",
     "text": [
      "\n",
      "Estimated Optimal Policy (UP = 0, RIGHT = 1, DOWN = 2, LEFT = 3, N/A = -1):\n",
      "[[ 0  3  0  1  2  1  1  2  1  2  1  2]\n",
      " [ 3  1  1  1  1  1  1  2  2  1  1  2]\n",
      " [ 1  1  1  1  1  1  1  1  1  1  1  2]\n",
      " [ 0 -1 -1 -1 -1 -1 -1 -1 -1 -1 -1  0]]\n"
     ]
    }
   ],
   "source": [
    "# print the estimated optimal policy\n",
    "policy = np.array([np.argmax(Q[key]) if key in Q else -1 for key in np.arange(48)]).reshape((4,12))\n",
    "print(\"\\nEstimated Optimal Policy (UP = 0, RIGHT = 1, DOWN = 2, LEFT = 3, N/A = -1):\")\n",
    "print(policy)"
   ]
  },
  {
   "cell_type": "markdown",
   "metadata": {},
   "source": [
    "<a id=references></a>\n",
    "## References\n",
    "\n",
    "- [Sutton and Barto Textbook (Reinforcement Learning: An Introduction)](https://web.stanford.edu/class/psych209/Readings/SuttonBartoIPRLBook2ndEd.pdf)\n",
    "- [David Silver's Lecture (DeepMind)](https://www.youtube.com/playlist?list=PLqYmG7hTraZBiG_XpjnPrSNw-1XQaM_gB)\n",
    "- [Udacity's DeepRL Github Repo](https://github.com/udacity/deep-reinforcement-learning)"
   ]
  },
  {
   "cell_type": "markdown",
   "metadata": {},
   "source": [
    "<a id=resources></a>\n",
    "## Further Resources\n",
    "\n",
    "- [Implementation of RL algorithms Github Repo](https://github.com/dennybritz/reinforcement-learning)"
   ]
  }
 ],
 "metadata": {
  "kernelspec": {
   "display_name": "Python 3",
   "language": "python",
   "name": "python3"
  },
  "language_info": {
   "codemirror_mode": {
    "name": "ipython",
    "version": 3
   },
   "file_extension": ".py",
   "mimetype": "text/x-python",
   "name": "python",
   "nbconvert_exporter": "python",
   "pygments_lexer": "ipython3",
   "version": "3.8.5"
  }
 },
 "nbformat": 4,
 "nbformat_minor": 4
}
